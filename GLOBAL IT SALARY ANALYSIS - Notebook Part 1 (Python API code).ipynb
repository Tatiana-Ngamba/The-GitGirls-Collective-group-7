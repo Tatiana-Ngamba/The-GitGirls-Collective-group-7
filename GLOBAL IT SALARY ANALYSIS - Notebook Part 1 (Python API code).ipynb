{
 "cells": [
  {
   "cell_type": "markdown",
   "id": "56c93fa7-a1e7-450a-8805-3c19b760d544",
   "metadata": {},
   "source": [
    "# GLOBAL IT SALARY ANALYSIS (Git-Girls-Collective-7)  \n",
    "# - Notebook Part 1 (Python API code)"
   ]
  },
  {
   "cell_type": "markdown",
   "id": "7d9c2e2e-3976-4241-909e-c35223e25123",
   "metadata": {},
   "source": [
    "## Purpose"
   ]
  },
  {
   "cell_type": "markdown",
   "id": "4b6d997b-3e73-4d99-a604-073c46504361",
   "metadata": {},
   "source": [
    "* The overall purpose of this program is to make a series of API calls to Teleport.org to retrieve salary information it offers comprehensively on 52 job roles across 198 countries.  \n",
    "* The code makes a separate API call to exchangerate-api.com to retrieve a list of conversion rates for all the relevant countries' currencies into GBP.  \n",
    "* Finally, our code integrates the information from these API requests into a DataFrame containing country info, currency info, currency conversion rates, local currency salaries and GBP converted salaries.  \n",
    "* This DataFrame is exported to a timestamped .csv file (i.e. output_gbp_salaries_{timestamp}.csv) which can be imported into the Jupyter Notebook Part 2, for straightforward combination with other datasets for analysis."
   ]
  },
  {
   "cell_type": "markdown",
   "id": "ecc14400-7591-43e4-a27f-ec8470a5c42c",
   "metadata": {},
   "source": [
    "### **_Fair Warning!_** _If you run this notebook in full, API requests will be made and output files will be generated!_"
   ]
  },
  {
   "cell_type": "markdown",
   "id": "cac05f4e-16f0-4c17-8789-1e8bb11d2a1d",
   "metadata": {},
   "source": [
    "## Structure"
   ]
  },
  {
   "cell_type": "markdown",
   "id": "132e926b-a509-41c0-8c52-2a6264c61f90",
   "metadata": {},
   "source": [
    "This notebook catalogues a Python program, which would traditionally be structured as follows:\n",
    "* **main.py** - execution file, which imports functionality from utils_api_to_df.py. Tidy entry point for the program.\n",
    "* **utils_api_to_df.py** - module contains the core functionality of the program (retrieving data via API calls, and manipulating this into usable format for manipulation and data analysis elsewhere)\n",
    "* **utils_helper.py** - module contains small utility functions, called by utils_api_to_df.py"
   ]
  },
  {
   "cell_type": "markdown",
   "id": "9a9e3fbe-cef3-461e-ab9e-abaf1e8334fe",
   "metadata": {},
   "source": [
    "**Notes about restructure**  \n",
    "Now that this code is being run in a single notebook, original code has been changed as follows:\n",
    "* comments and some docstrings have become markdown cell commentary\n",
    "* import statements have been removed\n",
    "* non-applicable commentary has been removed\n",
    "* all import statement appear bundled together, at the top of the notebook rather than per file"
   ]
  },
  {
   "cell_type": "markdown",
   "id": "6944cfc2-3ade-4b01-bbb1-0a27244349ae",
   "metadata": {},
   "source": [
    "To mimic the full program file structure, the code content appears in dependency order."
   ]
  },
  {
   "cell_type": "code",
   "execution_count": null,
   "id": "69d9db97-4e03-40c2-9a10-aa207e9eb09f",
   "metadata": {},
   "outputs": [],
   "source": [
    "# Import module dependencies\n",
    "import os\n",
    "import datetime # fetch, manipulate and format dates\n",
    "import requests\n",
    "import pandas as pd\n",
    "from pandas import json_normalize\n",
    "import json\n",
    "import time\n",
    "\n",
    "# create a directory to gather all the API output files\n",
    "if not os.path.exists(\"api_output\"):\n",
    "    os.makedirs(\"api_output\")"
   ]
  },
  {
   "cell_type": "markdown",
   "id": "1478e93b-9d59-4e34-8fcd-e3ac081bbd5b",
   "metadata": {},
   "source": [
    "<div style=\"background-color: #ADD8E6; padding: 5px; border: 1px solid black; border-radius: 1px;\">\n",
    "    <h3 style=:\"margin-bottom: 5px; font-weight: bold;\">Section 1: Content of utils_helper.py</h3>\n",
    "    <p style=:\"margin-top: 0;\">Helper functions for utils_api_to_df.py section</p>\n",
    "</div>"
   ]
  },
  {
   "cell_type": "markdown",
   "id": "b440a2ee-ae54-4bd6-b708-f3f6798e45c4",
   "metadata": {},
   "source": [
    "**calc_file_size** function estimates the file size of an API call. Only really needed for large API data requests."
   ]
  },
  {
   "cell_type": "code",
   "execution_count": null,
   "id": "ad6cfaca-bc4b-4587-9017-3f2a124a835d",
   "metadata": {},
   "outputs": [],
   "source": [
    "def calc_file_size(num_API_requests):\n",
    "    \"\"\"Estimates the file size of an API call. Only really needed for large API data requests. Param: number of JSON objects (int) expected from API request. \"\"\"\n",
    "    json_file_size_kb = 154/10 # got from test of 100 sample results, stored as a JSON\n",
    "    pause = 0.5\n",
    "    # batch_size = 250\n",
    "    mb_filesize = (num_API_requests*json_file_size_kb)/1000\n",
    "    \n",
    "    if mb_filesize < 100:\n",
    "        judgement = \"managable.\"\n",
    "    else:\n",
    "        judgement = \"getting chunky.\"\n",
    "\n",
    "    print(f\"For {num_API_requests} JSON objects, it will take {round(num_API_requests*pause/60,2)} mins to fetch and at {round(json_file_size_kb)} KB per object, total filesize will be {round(mb_filesize)} MB; that's {judgement}\")\n",
    "\n",
    "# Test:\n",
    "# calc_file_size(400)"
   ]
  },
  {
   "cell_type": "markdown",
   "id": "f3faf762-6c3d-40c0-bb35-fdaa073121b8",
   "metadata": {},
   "source": [
    "**count_json_items** function counts the number of JSON/dictionary keys (at a specified level) in a JSON file. Returns sentence including number of items. This allows verification of the number of countries information has been retrieved about. "
   ]
  },
  {
   "cell_type": "code",
   "execution_count": null,
   "id": "8a54de1b-c5a7-41c2-b8e9-7d604553b042",
   "metadata": {},
   "outputs": [],
   "source": [
    "def count_json_items(filepath, json_dict_structure, item_key):\n",
    "    \"\"\" Counts the number of JSON/dictionary keys (at a specified level) in a JSON file. Params: filepath (str), the dictionary structure (list of keys, eg. ['_links','country:items'])  for the target key, and the target key (str, e.g. 'name') to be counted. Returns sentence including number of items. \"\"\"\n",
    "    try: \n",
    "        with open(filepath, \"r\") as json_file:\n",
    "            json_data = json.load(json_file)\n",
    "\n",
    "        for key in json_dict_structure:\n",
    "            json_data = json_data[key]\n",
    "\n",
    "        num_entries = sum(item_key in item for item in json_data)\n",
    "\n",
    "        return f\"The number of entries under '{item_key}' key in this JSON file is {num_entries}\"\n",
    "        \n",
    "    except FileNotFoundError:\n",
    "        print(f\"File not found: {filepath}\")\n",
    "    except json.JSONDecodeError:\n",
    "        print(\"Invalid JSON format.\")\n",
    "    except KeyError as e:\n",
    "        print(f\"Key error: {e}\")\n",
    "\n",
    "# Test params\n",
    "# filepath = \"api_output/list_countries.json\"\n",
    "# json_dict_structure = ['_links','country:items']\n",
    "# item_key = \"name\"\n",
    "# # 252\n",
    "# print(count_json_items(filepath, json_dict_structure, item_key))"
   ]
  },
  {
   "cell_type": "markdown",
   "id": "1e680286-bbf4-41bc-9442-a375dd2e12c7",
   "metadata": {},
   "source": [
    "**count_keys** function returns count of keys in a JSON file dictionary. Required to scale appropriately the size of the API request made to Teleport, in order to match the number of countries information is available for."
   ]
  },
  {
   "cell_type": "code",
   "execution_count": null,
   "id": "092c296b-a883-4ae1-9ff4-27ae38fe0faa",
   "metadata": {},
   "outputs": [],
   "source": [
    "def count_keys(filepath):\n",
    "    \"\"\"Returns count of keys in a JSON file dictionary\"\"\"\n",
    "    try:\n",
    "        with open(filepath, \"r\") as json_file:\n",
    "            json_data = json.load(json_file)\n",
    "\n",
    "        num_keys = len(json_data.keys())\n",
    "        print(\"Keys found:\", list(json_data.keys()))  # For debugging\n",
    "\n",
    "        return f\"The number of top-level keys in this JSON file is {num_keys}\"\n",
    "    except FileNotFoundError:\n",
    "        print(f\"File not found: {filepath}\")\n",
    "    except json.JSONDecodeError:\n",
    "        print(\"Invalid JSON format.\")\n",
    "    except KeyError as e:\n",
    "        print(f\"Key error: {e}\")"
   ]
  },
  {
   "cell_type": "markdown",
   "id": "8a6081e3-5df7-4f40-97bc-c85a7feeae7c",
   "metadata": {},
   "source": [
    "<div style=\"background-color: #ADD8E6; padding: 5px; border: 1px solid black; border-radius: 1px;\">\n",
    "    <h3 style=:\"margin-bottom: 5px; font-weight: bold;\">Section 2: Content of utils_api_to_df.py</h3>\n",
    "    <p style=:\"margin-top: 0;\">This file contains 6 functions:</p>\n",
    "    <p style=:\"margin-top: 0;\"><b>1) simple_get_list_countries()</b> - Makes API call to Teleport.org to retrieve a simple list of countries for which it offers data</p>\n",
    "    <p style=:\"margin-top: 0;\"><b>2) count_json_items()</b> - Tests the content retrieved by 1), outputs a total number of countries</p>\n",
    "    <p style=:\"margin-top: 0;\"><b>3) get_overviews_countries()</b> - Uses json formatted information returned by 1), to make a series of API calls to Teleport to retrieve country-level overview data (most importantly, currency code and iso_alpha2 code)</p>\n",
    "    <p style=:\"margin-top: 0;\"><b>4) count_keys()</b> - Counts the number of countries for which information was retrieved by 3)</p>\n",
    "    <p style=:\"margin-top: 0;\"><b>5) api_to_dataframe()</b> - Function makes API request to retrieve country-level salary data from Teleport API. It utilises JSON data retrieved from the previous two API requests. It outputs this as a DataFrame object and a sibling .csv file. </p>\n",
    "    <p style=:\"margin-top: 0;\"><b>6) get_conversion_rates_insert_df()</b> - A collection of three functions. These needed to be grouped under one function call as output from one feeds directly into the others. It makes an API call to exchangerate-api.com, utilising the currency code of the countries we are interested in, compiling a file called currency_rate.json. This is used in <b>convert_salary_to_GBP</b> to create an additional columns where local salaries are converted to GBP. The final function <b>get_conversion_rates_insert</b> is what ensures the other two functions are called seamlessly together.</p>\n",
    "        <p style=:\"margin-top: 0;\">See the docstrings and comments for detailed individual explanations of functionality.</p>\n",
    "</div> "
   ]
  },
  {
   "cell_type": "markdown",
   "id": "e0a753db-b63b-4b25-9cd4-51716b28ee1c",
   "metadata": {},
   "source": [
    "**Note**  \n",
    "If you just want to run all functions in one hit to create a new dataset, skip to **Section 3: (main.py)**.  \n",
    "If you only want to run/test individual functions, uncomment and run the API functions / print functions in this section individually.  \n",
    "Individual functions calls in this section are commented-out to prevent accidental large API requests, and/or uncontrolled update/overwrite of files."
   ]
  },
  {
   "cell_type": "markdown",
   "id": "c55f72a8-c125-4c8b-abd9-b99b3cc31743",
   "metadata": {},
   "source": [
    "1) Function makes an API request to retrieve list of countries from Teleport API (country name and url)"
   ]
  },
  {
   "cell_type": "code",
   "execution_count": null,
   "id": "84b5244f-32ca-41c9-9de4-8b41230ed9be",
   "metadata": {},
   "outputs": [],
   "source": [
    "def simple_get_list_countries(): # NB 252\n",
    "    \"\"\"Grabs list of countries with info available from Teleport API. Log file and JSON file are output.\"\"\"\n",
    "    api_base_url = \"https://api.teleport.org/api/countries/\"\n",
    "    headers = {\"Accept\" : \"application/vnd.teleport.v1+json\"}\n",
    "    try: \n",
    "        request_country_list = requests.get(api_base_url, headers=headers)\n",
    "        print(f\"Status code: {request_country_list.status_code}\") \n",
    "        if request_country_list.status_code == 200:\n",
    "            response_country_list = request_country_list.json()\n",
    "\n",
    "            if 'count' in response_country_list: \n",
    "                num_results = response_country_list['count']\n",
    "                first_country = response_country_list['_links']['country:items'][0][\"name\"]\n",
    "                last_country = response_country_list['_links']['country:items'][-1][\"name\"]\n",
    "                request_time = datetime.datetime.now()\n",
    "\n",
    "                grab_country = json.dumps(response_country_list, indent=4)\n",
    "                with open(\"api_output/list_countries.json\", \"w\") as list_countries:\n",
    "                    list_countries.write(grab_country)\n",
    "\n",
    "                with open(\"api_output/log_countries_list.txt\", \"a\") as log_countries_list:\n",
    "                    log_countries_list.write(\n",
    "                    f\"{request_time} - Processed {num_results} results from {first_country} to {last_country}.\\n\")\n",
    "            else:\n",
    "                print(f\"Error: 'count' not in response\")       \n",
    "        else:\n",
    "            print(f\"Error fetching data, {request_country_list.status_code}\")\n",
    "\n",
    "    except requests.RequestException as e:\n",
    "        print(f\"Request failed: {e}\")\n",
    "\n",
    "# simple_get_list_countries()"
   ]
  },
  {
   "cell_type": "markdown",
   "id": "6666138e-4f7c-42cf-9dfe-95db0222ad00",
   "metadata": {},
   "source": [
    "2) Check the count of countries retrieved from API. Use this to ensure counter number in next function gets all results, and to pass into the calc_file_size function below, if required."
   ]
  },
  {
   "cell_type": "code",
   "execution_count": null,
   "id": "16bb6579-b7f4-4562-a488-061855271e00",
   "metadata": {},
   "outputs": [],
   "source": [
    "filepath = \"api_output/list_countries.json\"\n",
    "json_dict_structure = ['_links','country:items']\n",
    "item_key = \"name\"\n",
    "\n",
    "# print(count_json_items(filepath, json_dict_structure, item_key)) # 252"
   ]
  },
  {
   "cell_type": "markdown",
   "id": "3351e6b3-13f2-4391-ad1b-071097c32477",
   "metadata": {},
   "source": [
    "3) Function makes an API call to Teleport to add grab overview country level data, including the currency_code which is used in the currency conversion function"
   ]
  },
  {
   "cell_type": "code",
   "execution_count": null,
   "id": "808a95df-58e6-43da-ad7f-5ef314d843cb",
   "metadata": {},
   "outputs": [],
   "source": [
    "api_calls_to_make = 252 # this should be number printed above. Set low (i.e. 10 if you only want to do a test run)\n",
    "\n",
    "def get_overviews_countries(api_calls_to_make): \n",
    "    \"\"\"Grabs currency code, geoname, country code, name & population via Teleport API for each country. Log file entry made for every API request. Appends each JSON object under country-code key to a dictionary, then writes this to a single JSON file at the end.\"\"\"\n",
    "    calc_file_size(api_calls_to_make) # num countries 252\n",
    "    with open(\"api_output/list_countries.json\", \"r\") as countries_list:\n",
    "        country_list_data = json.load(countries_list)\n",
    "    \n",
    "    all_countries_overview_data = {} # empty dict is appended to by each API request\n",
    "\n",
    "    counter = 0 # counts API requests\n",
    "\n",
    "    for country in country_list_data['_links']['country:items']:\n",
    "        if counter < api_calls_to_make+10: # counter can be set low for a test run\n",
    "            api_country_url = f\"{country['href']}\"\n",
    "            country_code = api_country_url[-3:-1]  # Extracting 2 letter the country code\n",
    "            print(country_code)\n",
    "            headers = {\"Accept\" : \"application/vnd.teleport.v1+json\"}\n",
    "\n",
    "            try: \n",
    "                request_country_overview = requests.get(api_country_url, headers=headers)\n",
    "                print(f\"Status code: {request_country_overview.status_code}\") \n",
    "                if request_country_overview.status_code == 200:\n",
    "                    response_country_overview = request_country_overview.json()\n",
    "\n",
    "                    country_overview = {\n",
    "                        \"currency_code\" : response_country_overview.get(\"currency_code\", \"N/A\"),\n",
    "                        \"geoname_id\" : response_country_overview.get(\"currency_code\", \"N/A\"),\n",
    "                        \"iso_alpha2\" : response_country_overview.get(\"iso_alpha2\", \"N/A\"),\n",
    "                        \"iso_alpha3\" : response_country_overview.get(\"iso_alpha3\", \"N/A\"),\n",
    "                        \"name\": response_country_overview.get(\"name\", \"N/A\"),\n",
    "                        \"population\" : response_country_overview.get('population', \"N/A\"),\n",
    "                    }\n",
    "\n",
    "                    all_countries_overview_data[country_code] = country_overview\n",
    "                    country_name = response_country_overview['name']\n",
    "                    request_time = datetime.datetime.now()\n",
    "\n",
    "                    with open(\"api_output/log_country_overviews.txt\", \"a\") as log_country_overviews:\n",
    "                        log_country_overviews.write(\n",
    "                        f\"API Request: {counter} - Made at {request_time} - For {country_code} - {country_name}.\\n\")\n",
    "                    time.sleep(0.5)\n",
    "\n",
    "\n",
    "                else:\n",
    "                    all_countries_overview_data[country_code] = \"N/A processing error API\"  # Placeholder for omitted overview data due to API process error\n",
    "\n",
    "                    print(f\"Error fetching data for {country_code}, status code: {request_country_overview.status_code}\")\n",
    "                \n",
    "            except requests.RequestException as e:\n",
    "                all_countries_overview_data[country_code] = \"N/A processing error\" # Placeholder for request exceptions\n",
    "                print(f\"Request failed for {country_code}: {e}\")\n",
    "\n",
    "            counter +=1 # increment API request counter \n",
    "\n",
    "    # after loop completion, write combined country overview data to file\n",
    "    with open(\"api_output/overviews_all_countries.json\", \"w\") as file:\n",
    "        json.dump(all_countries_overview_data, file, indent = 4)\n",
    "    print(\"Teleport countries-overview info API call finished!\")\n",
    "\n",
    "# get_overviews_countries()"
   ]
  },
  {
   "cell_type": "markdown",
   "id": "846d6fe5-684a-485c-8083-cdfdf75b859a",
   "metadata": {},
   "source": [
    "4) Counts the number of keys in the JSON dictionary which was just created, holding the salaries data for each country from Teleport. It should match the number of countries you passed into the previous function."
   ]
  },
  {
   "cell_type": "code",
   "execution_count": null,
   "id": "298473b9-d573-41a9-9055-2151522e103d",
   "metadata": {},
   "outputs": [],
   "source": [
    "filepath = \"api_output/overviews_all_countries.json\"\n",
    "# print(count_keys(filepath)) # returns 252. Matches countries_list"
   ]
  },
  {
   "cell_type": "markdown",
   "id": "b585ea97-a224-4e50-87ac-fcc7bc33ecb5",
   "metadata": {},
   "source": [
    "5) Function makes API request to retrieve country-level salary data from Teleport API. It utilises JSON data retrieved from the previous two API requests. It outputs this as a DataFrame object and a sibling .csv file. Please be patient, takes c30seconds to run."
   ]
  },
  {
   "cell_type": "code",
   "execution_count": null,
   "id": "1e8d8fe9-6f5b-4825-a21a-41e718a46644",
   "metadata": {},
   "outputs": [],
   "source": [
    "def api_to_dataframe():\n",
    "    # Load country list data for API call from existing JSON file\n",
    "    with open(\"api_output/list_countries.json\", \"r\") as countries_list:\n",
    "        country_list_data = json.load(countries_list)\n",
    "\n",
    "    # Load currency_code from existing JSON file\n",
    "    with open(\"api_output/overviews_all_countries.json\", \"r\") as overviews_countries:\n",
    "        currency_data = json.load(overviews_countries)\n",
    "\n",
    "    # Map country_code to currency_code (country_code key is common to both json files)\n",
    "    currency_mapping = {country['iso_alpha2']: country['currency_code'] for country in currency_data.values()}\n",
    "\n",
    "    cc = []\n",
    "    # Iterate over countries to extract country codes\n",
    "    for country in country_list_data['_links']['country:items']:\n",
    "        api_country_url = f\"{country['href']}salaries/\"\n",
    "        country_code = api_country_url[-12:-10] # Extracting 2 letter the country code excluding the /\n",
    "        cc.append(country_code)\n",
    "\n",
    "    # print(cc) # displays the list of currency codes to be retrieved. Not required if previous function has been run.\n",
    "    url = \"https://api.teleport.org/api/countries/iso_alpha2:{}/salaries\"\n",
    "    dfs = []\n",
    "\n",
    "    # Iterate over the list of country codes\n",
    "    for country_code in cc:\n",
    "        # Construct the API endpoint URL for the current country_code\n",
    "        api_endpoint = url.format(country_code)\n",
    "        # Make a GET request to the API\n",
    "        response = requests.get(api_endpoint)\n",
    "\n",
    "        if response.status_code == 200:\n",
    "            api_data = response.json()\n",
    "            salaries_data = api_data.get('salaries', [])\n",
    "            currency_code = currency_mapping.get(country_code, \"Unknown\")\n",
    "            \n",
    "            df = json_normalize(salaries_data, sep='_')\n",
    "            if not df.empty:\n",
    "                # Add two extra columns with country_code and currency_code\n",
    "                df['iso_alpha2'] = country_code\n",
    "                df['currency_code'] = currency_code\n",
    "                dfs.append(df)\n",
    "\n",
    "        else:\n",
    "            print(f\"Error: {response.status_code}\")\n",
    "\n",
    "    # Concatenate the data retrieved from the API calls into result DataFrame\n",
    "    result_df = pd.concat(dfs, ignore_index=True)\n",
    "\n",
    "    # Solution for invalid currency codes\n",
    "    # Teleport API has outdated currency codes that do not match with those in the currency converter API\n",
    "    result_df.loc[884:935, 'currency_code'] = 'BYN'\n",
    "    result_df.loc[6032:6083, 'currency_code'] = 'MRU'\n",
    "    result_df.loc[10036:10087, 'currency_code'] = 'VES'\n",
    "\n",
    "    # For checking it works\n",
    "    # print(result_df.iloc[885])\n",
    "    # print(result_df.iloc[6035])\n",
    "    # print(result_df.iloc[10040])\n",
    "\n",
    "    # Print & convert the final DataFrame to CSV\n",
    "    # print(result_df)\n",
    "    result_df.to_csv('api_output/output_inc_codes.csv', index=False)\n",
    "    print(\"Teleport country-salary info API call finished!\")\n",
    "\n",
    "# api_to_dataframe() "
   ]
  },
  {
   "cell_type": "markdown",
   "id": "2237d6f7-3774-4216-8293-5e677da6cf32",
   "metadata": {},
   "source": [
    "6) Two functions are defined, then run together by calling a third function **get_conversion_rates_insert_df(currency)**. These two have to be bundled to ensure consistency of the final DataFrame. **get_gbp_conversion_rates** makes an API call to exchangerate-api.com, utilising the currency code of the countries we are interested in, compiling a file called currency_rate.json. This is used in **convert_salary_to_GBP** to create an additional columns where local salaries are converted to GBP. The final function **get_conversion_rates_insert** is what ensures the other two functions are called seamlessly together"
   ]
  },
  {
   "cell_type": "code",
   "execution_count": null,
   "id": "e074e566-e2c1-4b8e-8991-d4f4959f653b",
   "metadata": {},
   "outputs": [],
   "source": [
    "def get_gbp_conversion_rates(currency):\n",
    "    \"\"\"param: 3 letter currency code, str, required\n",
    "    Function makes API request to open access exchangerate_api and retrieves JSON object of current exchange rates for passed in currency i.e. \"GBP\". Outputs a file called currency_rate_{timestamp}.json and a log file.\"\"\"\n",
    "    try:\n",
    "        currency_request = requests.get(f\"https://open.er-api.com/v6/latest/{currency}\")\n",
    "        print(f\"Status code: {currency_request.status_code}\") \n",
    "        if currency_request.status_code == 200:\n",
    "            currency_response = currency_request.json()\n",
    "            \n",
    "            if 'rates' in currency_response:               \n",
    "                request_time = datetime.datetime.now()\n",
    "                currency_timestamp = datetime.datetime.now().strftime(\"%y-%m-%d_%H-%M\")\n",
    "                currency_rates_filename = f\"currency_rates_{currency_timestamp}.json\"\n",
    "                rates_updated = currency_response['time_last_update_unix']\n",
    "                \n",
    "                with open(f\"api_output/{currency_rates_filename}\", \"w\") as currency_conversions:\n",
    "                    json.dump(currency_response, currency_conversions, indent=4)\n",
    "\n",
    "                with open(\"api_output/log_currency_rates.txt\", \"a\") as log_currency_rates:\n",
    "                            log_currency_rates.write(\n",
    "                            f\"{request_time} - Processed {currency} rates last updated at UNIX time {rates_updated}.\\n\")\n",
    "            else:\n",
    "                print(f\"Error: 'rates' not in response\")       \n",
    "        else:\n",
    "            print(f\"Error fetching data, {currency_request.status_code}\")\n",
    "\n",
    "    except requests.RequestException as e:\n",
    "        print(f\"Request failed: {e}\")\n",
    "\n",
    "    return currency_rates_filename\n",
    "\n",
    "def convert_salary_to_GBP(currency_rates_filename):\n",
    "    \"\"\"Function works directly on output_inc_codes.csv generated above, in conjunction with currency_rate{timestamp}.json to convert the local currency salaries given by Teleport API to GBP. Outputs a new CSV file with extra GBP salary columns and a column showing the conversion rates used. Note, this file is uniquely named with a timestamp to assist with version control.\"\"\"\n",
    "    # Load the JSON file with exchange rates\n",
    "    with open(f\"api_output/{currency_rates_filename}\", \"r\") as file:\n",
    "        data = json.load(file)\n",
    "    exchange_rates = data['rates']\n",
    "\n",
    "    # Load CSV with the salary data to be converted\n",
    "    df = pd.read_csv(\"api_output/output_inc_codes.csv\") # use DataFrame from CSV\n",
    "\n",
    "    # Function to convert currency to GBP\n",
    "    def convert_to_gbp(amount, currency_code):\n",
    "        rate = exchange_rates.get(currency_code, None)\n",
    "        if rate:\n",
    "            return amount / rate\n",
    "        else:\n",
    "            return \"N/A\" # Return \"N/A\" for missing exchange rate\n",
    "\n",
    "    # The following 4 lambda functions create & populate columns using the API call data\n",
    "\n",
    "    # Add a timestamped column stating the local to gbp conversion rates used\n",
    "    df['local_to_gbp_rates'] = df['currency_code'].apply(lambda x: data['rates'].get(x, \"N/A\"))\n",
    "\n",
    "    # Apply the conversion to each row (country) for all three salary %iles\n",
    "    df['gbp_converted_25th'] = df.apply(lambda row: convert_to_gbp(row['salary_percentiles_percentile_25'], row['currency_code']), axis=1)\n",
    "\n",
    "    df['gbp_converted_50th'] = df.apply(lambda row: convert_to_gbp(row['salary_percentiles_percentile_50'], row['currency_code']), axis=1)\n",
    "\n",
    "    df['gbp_converted_75th'] = df.apply(lambda row: convert_to_gbp(row['salary_percentiles_percentile_75'], row['currency_code']), axis=1)\n",
    "\n",
    "    #The iso_alpha2 for Namibia is \"NA\" however this is being displpayed as a null value.\n",
    "    #Therefore the location of the Namibia values are labelled \"NA\".\n",
    "    df.loc[6552:6603, 'iso_alpha2'] = 'NA'\n",
    "    #print(df.iloc[6555])\n",
    "\n",
    "    output_file_timestamp = datetime.datetime.now().strftime(\"%y-%m-%d_%H-%M\")\n",
    "    # Save the updated DataFrame into a new CSV\n",
    "    df.to_csv(f'api_output/output_gbp_salaries_{output_file_timestamp}.csv', index=False)\n",
    "\n",
    "def get_conversion_rates_insert_df(currency):\n",
    "    # Call the function to get conversion rates and save them\n",
    "    currency_rates_filename = get_gbp_conversion_rates(currency)\n",
    "    # Use the generated file to convert salaries\n",
    "    convert_salary_to_GBP(currency_rates_filename)\n",
    "    print(\"Function complete. Please see output_gbp_salaries{timestamp}.csv for your resulting data.\")\n",
    "\n",
    "    # NB: once this function has been run and we have output_gbp_salaries_{timestamp}.csv, technically the intermediate file output_inc_codes.csv can be deleted. During development, may be helpful for troubleshooting. If we find no use for the csv at the point of final-code review, we can add a line of code here to delete output_inc_codes.csv from the directory.\n",
    "\n",
    "##################### Run the following to call the preceeding collection of functions ###################\n",
    "\n",
    "currency = \"GBP\"\n",
    "# get_conversion_rates_insert_df(currency)"
   ]
  },
  {
   "cell_type": "markdown",
   "id": "f58ae232-61e2-49a1-9639-798868961103",
   "metadata": {},
   "source": [
    "<div style=\"background-color: #ADD8E6; padding: 5px; border: 1px solid black; border-radius: 1px;\">\n",
    "    <h3 style=:\"margin-bottom: 5px; font-weight: bold;\">Section 3: Content main.py</h3>\n",
    "    <p style=:\"margin-top: 0;\">Helper functions for utils_api_to_df.py section</p>\n",
    "</div>"
   ]
  },
  {
   "cell_type": "markdown",
   "id": "590f92d8-c0f4-415f-9e83-e6b955874315",
   "metadata": {},
   "source": [
    "**Note**  \n",
    "Only run the following cells if you want to create a full fresh dataset. Otherwise, run selected functions individually from Section 2 (utils_api_to_df.py.)"
   ]
  },
  {
   "cell_type": "markdown",
   "id": "7ff9dfa5-4d02-4703-8fc8-91a093c35f4b",
   "metadata": {},
   "source": [
    "1) Function makes an API request to retrieve list of countries from Teleport API (country name and url)"
   ]
  },
  {
   "cell_type": "code",
   "execution_count": null,
   "id": "27b8718e-5272-40bc-90b2-8ce0567ff6b0",
   "metadata": {},
   "outputs": [],
   "source": [
    "simple_get_list_countries()"
   ]
  },
  {
   "cell_type": "markdown",
   "id": "7fea5a2d-b7f0-403f-a088-cdb38b137aeb",
   "metadata": {},
   "source": [
    "2) Check the count of countries retrieved from API. Use this to ensure counter number in next function gets all results, and to pass into the calc_file_size function below, if required."
   ]
  },
  {
   "cell_type": "code",
   "execution_count": null,
   "id": "1d8c5940-c31e-4dff-9304-5a3261736a86",
   "metadata": {},
   "outputs": [],
   "source": [
    "filepath = \"api_output/list_countries.json\"\n",
    "json_dict_structure = ['_links','country:items']\n",
    "item_key = \"name\"\n",
    "\n",
    "print(count_json_items(filepath, json_dict_structure, item_key))"
   ]
  },
  {
   "cell_type": "markdown",
   "id": "d270d051-b6db-4b4e-b8d6-6d3eacfb6a36",
   "metadata": {},
   "source": [
    "3) Function makes an API call to Teleport to add grab overview country level data, including the currency_code which is used in the currency conversion function. Please be patient; we have deliberately delayed each API call to be polite to Teleport's servers, so it takes a minute to run. A Finished print statement will display when call is complete."
   ]
  },
  {
   "cell_type": "code",
   "execution_count": null,
   "id": "a3fd0f86-8ce8-4dd6-aa30-c40bd2a12ebf",
   "metadata": {},
   "outputs": [],
   "source": [
    "api_calls_to_make = 252 # this should be number printed above. Set low (i.e. 10 if you only want to do a test run)\n",
    "get_overviews_countries(api_calls_to_make)"
   ]
  },
  {
   "cell_type": "markdown",
   "id": "6520fd0a-3f64-4f64-b857-eb26439dd3da",
   "metadata": {},
   "source": [
    "4) Counts the number of keys in the JSON dictionary which was just created, holding the salaries data for each country from Teleport. It should match the number of countries you passed into the previous function."
   ]
  },
  {
   "cell_type": "code",
   "execution_count": null,
   "id": "b1aa7892-b513-4f19-8cd4-d5e382e9327b",
   "metadata": {},
   "outputs": [],
   "source": [
    "filepath = \"api_output/overviews_all_countries.json\"\n",
    "print(count_keys(filepath)) # should return 252 to matches countries_list"
   ]
  },
  {
   "cell_type": "markdown",
   "id": "527d703a-b5f1-4a99-ae42-3db6581d433a",
   "metadata": {},
   "source": [
    "5) Function makes API request to retrieve country-level salary data from Teleport API. It utilises JSON data retrieved from the previous two API requests. It outputs this as a DataFrame object and a sibling .csv file. Please be patient, takes c30seconds to run. Finished print statement will display once complete."
   ]
  },
  {
   "cell_type": "code",
   "execution_count": null,
   "id": "7c9e80f0-53d1-4e99-9dce-47b7e8b66370",
   "metadata": {},
   "outputs": [],
   "source": [
    "api_to_dataframe()"
   ]
  },
  {
   "cell_type": "markdown",
   "id": "244e137f-47cb-4bb5-b860-dadbee8fdca3",
   "metadata": {},
   "source": [
    "6) The following calls two functions one after the other to produce our final DataFrame which has country info, currency info, conversion rates, local currency salaries and GBP converted salaries. Finished print statement will display once complete."
   ]
  },
  {
   "cell_type": "code",
   "execution_count": null,
   "id": "60e59a94-75c3-4b98-938d-0f1bf49702b0",
   "metadata": {},
   "outputs": [],
   "source": [
    "currency = \"GBP\"\n",
    "get_conversion_rates_insert_df(currency)"
   ]
  },
  {
   "cell_type": "markdown",
   "id": "407b486e-cf99-4fee-8f30-b8963e73f734",
   "metadata": {},
   "source": [
    "**Final Note**  \n",
    "After running the script in the above cell, you should end up with the following output files, gathered within a new folder directory \"/api_output\":  \n",
    "From 1), list_countries.json & log_list_countries.txt  \n",
    "From 3), overviews_all_countries.json & log_countries_overviews.txt  \n",
    "From 5), output_inc_codes.csv. This is an intermediate file and can be deleted. It was not programmatically deleted incase it is needed for testing.  \n",
    "From 6) currency_rates_{timestamp}.json, output_gbp_salaries_{timestamp}.csv and log_currency_rates.txt  \n",
    "\n",
    "**output_gbp_salaries_{timestamp}.csv** is the file to use Jupyter Notebook - Part 2 for data analysis. Have fun!"
   ]
  }
 ],
 "metadata": {
  "kernelspec": {
   "display_name": "Python 3 (ipykernel)",
   "language": "python",
   "name": "python3"
  },
  "language_info": {
   "codemirror_mode": {
    "name": "ipython",
    "version": 3
   },
   "file_extension": ".py",
   "mimetype": "text/x-python",
   "name": "python",
   "nbconvert_exporter": "python",
   "pygments_lexer": "ipython3",
   "version": "3.11.3"
  }
 },
 "nbformat": 4,
 "nbformat_minor": 5
}
